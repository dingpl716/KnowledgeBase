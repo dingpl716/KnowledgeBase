{
 "cells": [
  {
   "cell_type": "markdown",
   "id": "5f705b4f",
   "metadata": {},
   "source": [
    "## How advertisers bid on different layers of ad units"
   ]
  },
  {
   "cell_type": "code",
   "execution_count": 1,
   "id": "34e5fd6e",
   "metadata": {},
   "outputs": [],
   "source": [
    "import pandas as pd"
   ]
  },
  {
   "cell_type": "code",
   "execution_count": 45,
   "id": "cc522c30",
   "metadata": {},
   "outputs": [],
   "source": [
    "df = pd.read_csv('../data/bidders_accross_ad_units.csv', thousands=',', dtype={'advertiser':str,'ad_unit':str,'revenue':float,'impressions':int,'ecpm':float})"
   ]
  },
  {
   "cell_type": "code",
   "execution_count": 46,
   "id": "1cc45628",
   "metadata": {},
   "outputs": [
    {
     "data": {
      "text/html": [
       "<div>\n",
       "<style scoped>\n",
       "    .dataframe tbody tr th:only-of-type {\n",
       "        vertical-align: middle;\n",
       "    }\n",
       "\n",
       "    .dataframe tbody tr th {\n",
       "        vertical-align: top;\n",
       "    }\n",
       "\n",
       "    .dataframe thead th {\n",
       "        text-align: right;\n",
       "    }\n",
       "</style>\n",
       "<table border=\"1\" class=\"dataframe\">\n",
       "  <thead>\n",
       "    <tr style=\"text-align: right;\">\n",
       "      <th></th>\n",
       "      <th>advertiser</th>\n",
       "      <th>ad_unit</th>\n",
       "      <th>ad_ctr</th>\n",
       "      <th>revenue</th>\n",
       "      <th>impressions</th>\n",
       "      <th>ecpm</th>\n",
       "    </tr>\n",
       "  </thead>\n",
       "  <tbody>\n",
       "    <tr>\n",
       "      <th>0</th>\n",
       "      <td>1-800-Flowers.com</td>\n",
       "      <td>21839579524 » am-android-foryou-large-ib-high</td>\n",
       "      <td>1.38%</td>\n",
       "      <td>275.84</td>\n",
       "      <td>21467</td>\n",
       "      <td>12.85</td>\n",
       "    </tr>\n",
       "    <tr>\n",
       "      <th>1</th>\n",
       "      <td>1-800-Flowers.com</td>\n",
       "      <td>21839579524 » am-android-foryou-large-ib-low</td>\n",
       "      <td>0.69%</td>\n",
       "      <td>104.46</td>\n",
       "      <td>33531</td>\n",
       "      <td>3.12</td>\n",
       "    </tr>\n",
       "    <tr>\n",
       "      <th>2</th>\n",
       "      <td>1-800-Flowers.com</td>\n",
       "      <td>21839579524 » am-android-foryou-large-ib-medium</td>\n",
       "      <td>0.87%</td>\n",
       "      <td>177.73</td>\n",
       "      <td>33979</td>\n",
       "      <td>5.23</td>\n",
       "    </tr>\n",
       "    <tr>\n",
       "      <th>3</th>\n",
       "      <td>1000Bulbs.com</td>\n",
       "      <td>21839579524 » am-android-foryou-large-ib-high</td>\n",
       "      <td>0.98%</td>\n",
       "      <td>64.00</td>\n",
       "      <td>5285</td>\n",
       "      <td>12.11</td>\n",
       "    </tr>\n",
       "    <tr>\n",
       "      <th>4</th>\n",
       "      <td>1000Bulbs.com</td>\n",
       "      <td>21839579524 » am-android-foryou-large-ib-low</td>\n",
       "      <td>0.41%</td>\n",
       "      <td>20.89</td>\n",
       "      <td>6900</td>\n",
       "      <td>3.03</td>\n",
       "    </tr>\n",
       "  </tbody>\n",
       "</table>\n",
       "</div>"
      ],
      "text/plain": [
       "          advertiser                                          ad_unit ad_ctr  \\\n",
       "0  1-800-Flowers.com    21839579524 » am-android-foryou-large-ib-high  1.38%   \n",
       "1  1-800-Flowers.com     21839579524 » am-android-foryou-large-ib-low  0.69%   \n",
       "2  1-800-Flowers.com  21839579524 » am-android-foryou-large-ib-medium  0.87%   \n",
       "3      1000Bulbs.com    21839579524 » am-android-foryou-large-ib-high  0.98%   \n",
       "4      1000Bulbs.com     21839579524 » am-android-foryou-large-ib-low  0.41%   \n",
       "\n",
       "   revenue  impressions   ecpm  \n",
       "0   275.84        21467  12.85  \n",
       "1   104.46        33531   3.12  \n",
       "2   177.73        33979   5.23  \n",
       "3    64.00         5285  12.11  \n",
       "4    20.89         6900   3.03  "
      ]
     },
     "execution_count": 46,
     "metadata": {},
     "output_type": "execute_result"
    }
   ],
   "source": [
    "df.head()"
   ]
  },
  {
   "cell_type": "code",
   "execution_count": 47,
   "id": "b78cb1c5",
   "metadata": {},
   "outputs": [],
   "source": [
    "appearence = df['advertiser'].value_counts()"
   ]
  },
  {
   "cell_type": "code",
   "execution_count": 50,
   "id": "7028a687",
   "metadata": {},
   "outputs": [],
   "source": [
    "app_df = appearence.to_frame(name='appearence')"
   ]
  },
  {
   "cell_type": "code",
   "execution_count": 51,
   "id": "3917e6f0",
   "metadata": {},
   "outputs": [],
   "source": [
    "app_df.index.name = 'advertiser'"
   ]
  },
  {
   "cell_type": "code",
   "execution_count": 52,
   "id": "4eb7bb49",
   "metadata": {},
   "outputs": [
    {
     "data": {
      "text/plain": [
       "3    2879\n",
       "1     541\n",
       "2     515\n",
       "Name: appearence, dtype: int64"
      ]
     },
     "execution_count": 52,
     "metadata": {},
     "output_type": "execute_result"
    }
   ],
   "source": [
    "app_df['appearence'].value_counts()"
   ]
  },
  {
   "cell_type": "code",
   "execution_count": 53,
   "id": "bfa0aedc",
   "metadata": {},
   "outputs": [],
   "source": [
    "adv_grp = df.groupby(['advertiser'])"
   ]
  },
  {
   "cell_type": "code",
   "execution_count": 56,
   "id": "389ab54f",
   "metadata": {},
   "outputs": [],
   "source": [
    "total_revenue_df = adv_grp['revenue'].sum().to_frame(name='total_revenue')"
   ]
  },
  {
   "cell_type": "code",
   "execution_count": 58,
   "id": "230d0592",
   "metadata": {},
   "outputs": [],
   "source": [
    "total_revenue_df.index.name = 'advertiser'"
   ]
  },
  {
   "cell_type": "code",
   "execution_count": 60,
   "id": "f3827b9c",
   "metadata": {},
   "outputs": [
    {
     "data": {
      "text/html": [
       "<div>\n",
       "<style scoped>\n",
       "    .dataframe tbody tr th:only-of-type {\n",
       "        vertical-align: middle;\n",
       "    }\n",
       "\n",
       "    .dataframe tbody tr th {\n",
       "        vertical-align: top;\n",
       "    }\n",
       "\n",
       "    .dataframe thead th {\n",
       "        text-align: right;\n",
       "    }\n",
       "</style>\n",
       "<table border=\"1\" class=\"dataframe\">\n",
       "  <thead>\n",
       "    <tr style=\"text-align: right;\">\n",
       "      <th></th>\n",
       "      <th>total_revenue</th>\n",
       "    </tr>\n",
       "    <tr>\n",
       "      <th>advertiser</th>\n",
       "      <th></th>\n",
       "    </tr>\n",
       "  </thead>\n",
       "  <tbody>\n",
       "    <tr>\n",
       "      <th>1-800-Flowers.com</th>\n",
       "      <td>558.03</td>\n",
       "    </tr>\n",
       "    <tr>\n",
       "      <th>1000Bulbs.com</th>\n",
       "      <td>119.31</td>\n",
       "    </tr>\n",
       "    <tr>\n",
       "      <th>1001 Optical</th>\n",
       "      <td>0.02</td>\n",
       "    </tr>\n",
       "    <tr>\n",
       "      <th>17 Media</th>\n",
       "      <td>3.33</td>\n",
       "    </tr>\n",
       "    <tr>\n",
       "      <th>1A Auto</th>\n",
       "      <td>2.73</td>\n",
       "    </tr>\n",
       "    <tr>\n",
       "      <th>...</th>\n",
       "      <td>...</td>\n",
       "    </tr>\n",
       "    <tr>\n",
       "      <th>에듀윌</th>\n",
       "      <td>0.07</td>\n",
       "    </tr>\n",
       "    <tr>\n",
       "      <th>이디엠유학센터'</th>\n",
       "      <td>0.15</td>\n",
       "    </tr>\n",
       "    <tr>\n",
       "      <th>자생한방병원</th>\n",
       "      <td>0.84</td>\n",
       "    </tr>\n",
       "    <tr>\n",
       "      <th>칸투칸</th>\n",
       "      <td>0.01</td>\n",
       "    </tr>\n",
       "    <tr>\n",
       "      <th>파고다 교육그룹</th>\n",
       "      <td>0.01</td>\n",
       "    </tr>\n",
       "  </tbody>\n",
       "</table>\n",
       "<p>3935 rows × 1 columns</p>\n",
       "</div>"
      ],
      "text/plain": [
       "                   total_revenue\n",
       "advertiser                      \n",
       "1-800-Flowers.com         558.03\n",
       "1000Bulbs.com             119.31\n",
       "1001 Optical                0.02\n",
       "17 Media                    3.33\n",
       "1A Auto                     2.73\n",
       "...                          ...\n",
       "에듀윌                         0.07\n",
       "이디엠유학센터'                    0.15\n",
       "자생한방병원                      0.84\n",
       "칸투칸                         0.01\n",
       "파고다 교육그룹                    0.01\n",
       "\n",
       "[3935 rows x 1 columns]"
      ]
     },
     "execution_count": 60,
     "metadata": {},
     "output_type": "execute_result"
    }
   ],
   "source": [
    "total_revenue_df"
   ]
  },
  {
   "cell_type": "code",
   "execution_count": 62,
   "id": "7f658e98",
   "metadata": {},
   "outputs": [],
   "source": [
    "app_rev_df = pd.concat([app_df, total_revenue_df], axis='columns')"
   ]
  },
  {
   "cell_type": "code",
   "execution_count": 68,
   "id": "d0ec9a47",
   "metadata": {},
   "outputs": [
    {
     "data": {
      "text/html": [
       "<div>\n",
       "<style scoped>\n",
       "    .dataframe tbody tr th:only-of-type {\n",
       "        vertical-align: middle;\n",
       "    }\n",
       "\n",
       "    .dataframe tbody tr th {\n",
       "        vertical-align: top;\n",
       "    }\n",
       "\n",
       "    .dataframe thead th {\n",
       "        text-align: right;\n",
       "    }\n",
       "</style>\n",
       "<table border=\"1\" class=\"dataframe\">\n",
       "  <thead>\n",
       "    <tr style=\"text-align: right;\">\n",
       "      <th></th>\n",
       "      <th>appearence</th>\n",
       "      <th>total_revenue</th>\n",
       "    </tr>\n",
       "    <tr>\n",
       "      <th>advertiser</th>\n",
       "      <th></th>\n",
       "      <th></th>\n",
       "    </tr>\n",
       "  </thead>\n",
       "  <tbody>\n",
       "    <tr>\n",
       "      <th>1-800-Flowers.com</th>\n",
       "      <td>3</td>\n",
       "      <td>558.03</td>\n",
       "    </tr>\n",
       "    <tr>\n",
       "      <th>Nuance</th>\n",
       "      <td>3</td>\n",
       "      <td>18.89</td>\n",
       "    </tr>\n",
       "    <tr>\n",
       "      <th>Nordea</th>\n",
       "      <td>3</td>\n",
       "      <td>0.36</td>\n",
       "    </tr>\n",
       "    <tr>\n",
       "      <th>Nordeus</th>\n",
       "      <td>3</td>\n",
       "      <td>0.81</td>\n",
       "    </tr>\n",
       "    <tr>\n",
       "      <th>Nordstrom</th>\n",
       "      <td>3</td>\n",
       "      <td>253.66</td>\n",
       "    </tr>\n",
       "    <tr>\n",
       "      <th>...</th>\n",
       "      <td>...</td>\n",
       "      <td>...</td>\n",
       "    </tr>\n",
       "    <tr>\n",
       "      <th>Charles Schwab</th>\n",
       "      <td>1</td>\n",
       "      <td>0.01</td>\n",
       "    </tr>\n",
       "    <tr>\n",
       "      <th>Champlain College</th>\n",
       "      <td>1</td>\n",
       "      <td>3.69</td>\n",
       "    </tr>\n",
       "    <tr>\n",
       "      <th>Singapore Airlines Group</th>\n",
       "      <td>1</td>\n",
       "      <td>0.01</td>\n",
       "    </tr>\n",
       "    <tr>\n",
       "      <th>Chal-Tec</th>\n",
       "      <td>1</td>\n",
       "      <td>0.00</td>\n",
       "    </tr>\n",
       "    <tr>\n",
       "      <th>Total</th>\n",
       "      <td>1</td>\n",
       "      <td>782111.08</td>\n",
       "    </tr>\n",
       "  </tbody>\n",
       "</table>\n",
       "<p>3935 rows × 2 columns</p>\n",
       "</div>"
      ],
      "text/plain": [
       "                          appearence  total_revenue\n",
       "advertiser                                         \n",
       "1-800-Flowers.com                  3         558.03\n",
       "Nuance                             3          18.89\n",
       "Nordea                             3           0.36\n",
       "Nordeus                            3           0.81\n",
       "Nordstrom                          3         253.66\n",
       "...                              ...            ...\n",
       "Charles Schwab                     1           0.01\n",
       "Champlain College                  1           3.69\n",
       "Singapore Airlines Group           1           0.01\n",
       "Chal-Tec                           1           0.00\n",
       "Total                              1      782111.08\n",
       "\n",
       "[3935 rows x 2 columns]"
      ]
     },
     "execution_count": 68,
     "metadata": {},
     "output_type": "execute_result"
    }
   ],
   "source": [
    "app_rev_df"
   ]
  },
  {
   "cell_type": "code",
   "execution_count": 77,
   "id": "41a9bc5d",
   "metadata": {},
   "outputs": [],
   "source": [
    "app_rev_df.drop('Total', inplace=True)"
   ]
  },
  {
   "cell_type": "code",
   "execution_count": 78,
   "id": "0ab64f0b",
   "metadata": {},
   "outputs": [
    {
     "data": {
      "text/plain": [
       "appearence\n",
       "1       313.28\n",
       "2       166.73\n",
       "3    781633.40\n",
       "Name: total_revenue, dtype: float64"
      ]
     },
     "execution_count": 78,
     "metadata": {},
     "output_type": "execute_result"
    }
   ],
   "source": [
    "app_rev_df.groupby(['appearence'])['total_revenue'].sum()"
   ]
  },
  {
   "cell_type": "code",
   "execution_count": 79,
   "id": "e644ab14",
   "metadata": {},
   "outputs": [
    {
     "data": {
      "text/plain": [
       "782113.4099999999"
      ]
     },
     "execution_count": 79,
     "metadata": {},
     "output_type": "execute_result"
    }
   ],
   "source": [
    "app_rev_df['total_revenue'].sum()"
   ]
  },
  {
   "cell_type": "code",
   "execution_count": null,
   "id": "3a746eda",
   "metadata": {},
   "outputs": [],
   "source": []
  }
 ],
 "metadata": {
  "kernelspec": {
   "display_name": "Python 3 (ipykernel)",
   "language": "python",
   "name": "python3"
  },
  "language_info": {
   "codemirror_mode": {
    "name": "ipython",
    "version": 3
   },
   "file_extension": ".py",
   "mimetype": "text/x-python",
   "name": "python",
   "nbconvert_exporter": "python",
   "pygments_lexer": "ipython3",
   "version": "3.9.7"
  }
 },
 "nbformat": 4,
 "nbformat_minor": 5
}
