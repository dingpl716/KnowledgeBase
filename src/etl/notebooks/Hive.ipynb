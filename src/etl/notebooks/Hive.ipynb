{
 "cells": [
  {
   "cell_type": "code",
   "execution_count": 1,
   "id": "94d2250f",
   "metadata": {},
   "outputs": [
    {
     "name": "stdout",
     "output_type": "stream",
     "text": [
      "              winner_adomain  num\n",
      "0        [\"a-1american.com\"]  201\n",
      "1    [\"alkindisprinkle.com\"]   18\n",
      "2  [\"allurehermannpark.com\"]   11\n",
      "3         [\"alphabuilt.com\"]   14\n",
      "4       [\"americastire.com\"]   15\n"
     ]
    }
   ],
   "source": [
    "from pyhive import hive\n",
    "import pandas as pd\n",
    "\n",
    "conn = hive.Connection(auth='CUSTOM', host=\"data.emr.ads.nb.com\", port=10000, username=\"hadoop\", password=\"Newsbreak@2021\", database=\"ods\")\n",
    "query = \"\"\"\n",
    "select \n",
    "    winner_adomain,\n",
    "    count (*) as num\n",
    "from  ods.ods_kafka_msp_openrtb2_auction \n",
    "where pdate = '2023-04-25' --and phour = '01' \n",
    "    --and winner_bidder = 'rubicon'\n",
    "group by winner_adomain\n",
    "\"\"\"\n",
    "\n",
    "\n",
    "df = pd.read_sql(query, conn)\n",
    "\n",
    "print(df.head())"
   ]
  },
  {
   "cell_type": "code",
   "execution_count": 22,
   "id": "5ca08b1d",
   "metadata": {},
   "outputs": [
    {
     "name": "stdout",
     "output_type": "stream",
     "text": [
      "   num_duplicates              a.winner_adomain\n",
      "0               8           [\"a-1american.com\"]\n",
      "1            2490         [\"arubanetworks.com\"]\n",
      "2             400  [\"avocadogreenmattress.com\"]\n",
      "3             432         [\"batteriesplus.com\"]\n",
      "4               8                [\"bluff.coop\"]\n"
     ]
    }
   ],
   "source": [
    "df_dup = pd.read_csv('/Users/peiling/Downloads/num of dup.csv')\n",
    "print(df_dup.head())"
   ]
  },
  {
   "cell_type": "code",
   "execution_count": 23,
   "id": "99c0bc7e",
   "metadata": {},
   "outputs": [
    {
     "ename": "KeyError",
     "evalue": "\"None of ['winner_adomain'] are in the columns\"",
     "output_type": "error",
     "traceback": [
      "\u001b[0;31m---------------------------------------------------------------------------\u001b[0m",
      "\u001b[0;31mKeyError\u001b[0m                                  Traceback (most recent call last)",
      "\u001b[0;32m/var/folders/_1/g9ljc4yx0d32d3n5ktgxrf3r0000gn/T/ipykernel_9623/1899524945.py\u001b[0m in \u001b[0;36m<module>\u001b[0;34m\u001b[0m\n\u001b[0;32m----> 1\u001b[0;31m \u001b[0mdf\u001b[0m\u001b[0;34m.\u001b[0m\u001b[0mset_index\u001b[0m\u001b[0;34m(\u001b[0m\u001b[0;34m'winner_adomain'\u001b[0m\u001b[0;34m,\u001b[0m \u001b[0minplace\u001b[0m\u001b[0;34m=\u001b[0m\u001b[0;32mTrue\u001b[0m\u001b[0;34m)\u001b[0m\u001b[0;34m\u001b[0m\u001b[0;34m\u001b[0m\u001b[0m\n\u001b[0m",
      "\u001b[0;32m/usr/local/anaconda3/lib/python3.9/site-packages/pandas/util/_decorators.py\u001b[0m in \u001b[0;36mwrapper\u001b[0;34m(*args, **kwargs)\u001b[0m\n\u001b[1;32m    309\u001b[0m                     \u001b[0mstacklevel\u001b[0m\u001b[0;34m=\u001b[0m\u001b[0mstacklevel\u001b[0m\u001b[0;34m,\u001b[0m\u001b[0;34m\u001b[0m\u001b[0;34m\u001b[0m\u001b[0m\n\u001b[1;32m    310\u001b[0m                 )\n\u001b[0;32m--> 311\u001b[0;31m             \u001b[0;32mreturn\u001b[0m \u001b[0mfunc\u001b[0m\u001b[0;34m(\u001b[0m\u001b[0;34m*\u001b[0m\u001b[0margs\u001b[0m\u001b[0;34m,\u001b[0m \u001b[0;34m**\u001b[0m\u001b[0mkwargs\u001b[0m\u001b[0;34m)\u001b[0m\u001b[0;34m\u001b[0m\u001b[0;34m\u001b[0m\u001b[0m\n\u001b[0m\u001b[1;32m    312\u001b[0m \u001b[0;34m\u001b[0m\u001b[0m\n\u001b[1;32m    313\u001b[0m         \u001b[0;32mreturn\u001b[0m \u001b[0mwrapper\u001b[0m\u001b[0;34m\u001b[0m\u001b[0;34m\u001b[0m\u001b[0m\n",
      "\u001b[0;32m/usr/local/anaconda3/lib/python3.9/site-packages/pandas/core/frame.py\u001b[0m in \u001b[0;36mset_index\u001b[0;34m(self, keys, drop, append, inplace, verify_integrity)\u001b[0m\n\u001b[1;32m   5449\u001b[0m \u001b[0;34m\u001b[0m\u001b[0m\n\u001b[1;32m   5450\u001b[0m         \u001b[0;32mif\u001b[0m \u001b[0mmissing\u001b[0m\u001b[0;34m:\u001b[0m\u001b[0;34m\u001b[0m\u001b[0;34m\u001b[0m\u001b[0m\n\u001b[0;32m-> 5451\u001b[0;31m             \u001b[0;32mraise\u001b[0m \u001b[0mKeyError\u001b[0m\u001b[0;34m(\u001b[0m\u001b[0;34mf\"None of {missing} are in the columns\"\u001b[0m\u001b[0;34m)\u001b[0m\u001b[0;34m\u001b[0m\u001b[0;34m\u001b[0m\u001b[0m\n\u001b[0m\u001b[1;32m   5452\u001b[0m \u001b[0;34m\u001b[0m\u001b[0m\n\u001b[1;32m   5453\u001b[0m         \u001b[0;32mif\u001b[0m \u001b[0minplace\u001b[0m\u001b[0;34m:\u001b[0m\u001b[0;34m\u001b[0m\u001b[0;34m\u001b[0m\u001b[0m\n",
      "\u001b[0;31mKeyError\u001b[0m: \"None of ['winner_adomain'] are in the columns\""
     ]
    }
   ],
   "source": [
    "df.set_index('winner_adomain', inplace=True)"
   ]
  },
  {
   "cell_type": "code",
   "execution_count": 24,
   "id": "565531bb",
   "metadata": {},
   "outputs": [
    {
     "name": "stdout",
     "output_type": "stream",
     "text": [
      "   num_duplicates                winner_adomain\n",
      "0               8           [\"a-1american.com\"]\n",
      "1            2490         [\"arubanetworks.com\"]\n",
      "2             400  [\"avocadogreenmattress.com\"]\n",
      "3             432         [\"batteriesplus.com\"]\n",
      "4               8                [\"bluff.coop\"]\n"
     ]
    }
   ],
   "source": [
    "df_dup.rename(columns={'a.winner_adomain': 'winner_adomain'}, inplace=True)\n",
    "print(df_dup.head())\n",
    "df_dup.set_index('winner_adomain', inplace=True)"
   ]
  },
  {
   "cell_type": "code",
   "execution_count": 25,
   "id": "83fe7c99",
   "metadata": {},
   "outputs": [
    {
     "name": "stdout",
     "output_type": "stream",
     "text": [
      "                           num\n",
      "winner_adomain                \n",
      "[\"a-1american.com\"]        201\n",
      "[\"alkindisprinkle.com\"]     18\n",
      "[\"allurehermannpark.com\"]   11\n",
      "[\"alphabuilt.com\"]          14\n",
      "[\"americastire.com\"]        15\n"
     ]
    }
   ],
   "source": [
    "print(df.head())"
   ]
  },
  {
   "cell_type": "code",
   "execution_count": 26,
   "id": "b735f0d7",
   "metadata": {},
   "outputs": [
    {
     "name": "stdout",
     "output_type": "stream",
     "text": [
      "                              num_duplicates\n",
      "winner_adomain                              \n",
      "[\"a-1american.com\"]                        8\n",
      "[\"arubanetworks.com\"]                   2490\n",
      "[\"avocadogreenmattress.com\"]             400\n",
      "[\"batteriesplus.com\"]                    432\n",
      "[\"bluff.coop\"]                             8\n"
     ]
    }
   ],
   "source": [
    "print(df_dup.head())"
   ]
  },
  {
   "cell_type": "code",
   "execution_count": 27,
   "id": "d92237c0",
   "metadata": {},
   "outputs": [],
   "source": [
    "merged_df = df.merge(df_dup, on='winner_adomain')"
   ]
  },
  {
   "cell_type": "code",
   "execution_count": 30,
   "id": "d09cb9de",
   "metadata": {},
   "outputs": [
    {
     "name": "stdout",
     "output_type": "stream",
     "text": [
      "                               num  num_duplicates      rate\n",
      "winner_adomain                                              \n",
      "[\"a-1american.com\"]            201               8  0.039801\n",
      "[\"arubanetworks.com\"]         5671            2490  0.439076\n",
      "[\"avocadogreenmattress.com\"]  1407             400  0.284293\n",
      "[\"batteriesplus.com\"]         1753             432  0.246435\n",
      "[\"bluff.coop\"]                  28               8  0.285714\n"
     ]
    }
   ],
   "source": [
    "print(merged_df.head())\n"
   ]
  },
  {
   "cell_type": "code",
   "execution_count": 29,
   "id": "0ff3d0ea",
   "metadata": {},
   "outputs": [],
   "source": [
    "merged_df['rate'] = merged_df['num_duplicates'] / merged_df['num']"
   ]
  },
  {
   "cell_type": "code",
   "execution_count": 31,
   "id": "58923d29",
   "metadata": {},
   "outputs": [
    {
     "data": {
      "text/html": [
       "<div>\n",
       "<style scoped>\n",
       "    .dataframe tbody tr th:only-of-type {\n",
       "        vertical-align: middle;\n",
       "    }\n",
       "\n",
       "    .dataframe tbody tr th {\n",
       "        vertical-align: top;\n",
       "    }\n",
       "\n",
       "    .dataframe thead th {\n",
       "        text-align: right;\n",
       "    }\n",
       "</style>\n",
       "<table border=\"1\" class=\"dataframe\">\n",
       "  <thead>\n",
       "    <tr style=\"text-align: right;\">\n",
       "      <th></th>\n",
       "      <th>num</th>\n",
       "      <th>num_duplicates</th>\n",
       "      <th>rate</th>\n",
       "    </tr>\n",
       "    <tr>\n",
       "      <th>winner_adomain</th>\n",
       "      <th></th>\n",
       "      <th></th>\n",
       "      <th></th>\n",
       "    </tr>\n",
       "  </thead>\n",
       "  <tbody>\n",
       "    <tr>\n",
       "      <th>[]</th>\n",
       "      <td>89133270</td>\n",
       "      <td>760</td>\n",
       "      <td>8.526558e-06</td>\n",
       "    </tr>\n",
       "    <tr>\n",
       "      <th>[]</th>\n",
       "      <td>89133270</td>\n",
       "      <td>38</td>\n",
       "      <td>4.263279e-07</td>\n",
       "    </tr>\n",
       "    <tr>\n",
       "      <th>[\"statefarm.com\"]</th>\n",
       "      <td>3977118</td>\n",
       "      <td>2188676</td>\n",
       "      <td>5.503171e-01</td>\n",
       "    </tr>\n",
       "    <tr>\n",
       "      <th>[\"pampers.com\"]</th>\n",
       "      <td>2435212</td>\n",
       "      <td>1132698</td>\n",
       "      <td>4.651332e-01</td>\n",
       "    </tr>\n",
       "    <tr>\n",
       "      <th>[\"metamucil.com\"]</th>\n",
       "      <td>1864668</td>\n",
       "      <td>264132</td>\n",
       "      <td>1.416510e-01</td>\n",
       "    </tr>\n",
       "    <tr>\n",
       "      <th>...</th>\n",
       "      <td>...</td>\n",
       "      <td>...</td>\n",
       "      <td>...</td>\n",
       "    </tr>\n",
       "    <tr>\n",
       "      <th>[\"https://www.wacoal-america.com/\"]</th>\n",
       "      <td>2</td>\n",
       "      <td>2</td>\n",
       "      <td>1.000000e+00</td>\n",
       "    </tr>\n",
       "    <tr>\n",
       "      <th>[\"qik.com.do\"]</th>\n",
       "      <td>2</td>\n",
       "      <td>2</td>\n",
       "      <td>1.000000e+00</td>\n",
       "    </tr>\n",
       "    <tr>\n",
       "      <th>[\"kramersheds.com\"]</th>\n",
       "      <td>2</td>\n",
       "      <td>2</td>\n",
       "      <td>1.000000e+00</td>\n",
       "    </tr>\n",
       "    <tr>\n",
       "      <th>[\"cliclime.com\"]</th>\n",
       "      <td>2</td>\n",
       "      <td>2</td>\n",
       "      <td>1.000000e+00</td>\n",
       "    </tr>\n",
       "    <tr>\n",
       "      <th>[\"mcarthurglen.com\"]</th>\n",
       "      <td>2</td>\n",
       "      <td>2</td>\n",
       "      <td>1.000000e+00</td>\n",
       "    </tr>\n",
       "  </tbody>\n",
       "</table>\n",
       "<p>18930 rows × 3 columns</p>\n",
       "</div>"
      ],
      "text/plain": [
       "                                          num  num_duplicates          rate\n",
       "winner_adomain                                                             \n",
       "[]                                   89133270             760  8.526558e-06\n",
       "[]                                   89133270              38  4.263279e-07\n",
       "[\"statefarm.com\"]                     3977118         2188676  5.503171e-01\n",
       "[\"pampers.com\"]                       2435212         1132698  4.651332e-01\n",
       "[\"metamucil.com\"]                     1864668          264132  1.416510e-01\n",
       "...                                       ...             ...           ...\n",
       "[\"https://www.wacoal-america.com/\"]         2               2  1.000000e+00\n",
       "[\"qik.com.do\"]                              2               2  1.000000e+00\n",
       "[\"kramersheds.com\"]                         2               2  1.000000e+00\n",
       "[\"cliclime.com\"]                            2               2  1.000000e+00\n",
       "[\"mcarthurglen.com\"]                        2               2  1.000000e+00\n",
       "\n",
       "[18930 rows x 3 columns]"
      ]
     },
     "execution_count": 31,
     "metadata": {},
     "output_type": "execute_result"
    }
   ],
   "source": [
    "merged_df.sort_values(by='num', ascending=False)"
   ]
  },
  {
   "cell_type": "code",
   "execution_count": null,
   "id": "611e2d83",
   "metadata": {},
   "outputs": [],
   "source": []
  }
 ],
 "metadata": {
  "kernelspec": {
   "display_name": "Python 3 (ipykernel)",
   "language": "python",
   "name": "python3"
  },
  "language_info": {
   "codemirror_mode": {
    "name": "ipython",
    "version": 3
   },
   "file_extension": ".py",
   "mimetype": "text/x-python",
   "name": "python",
   "nbconvert_exporter": "python",
   "pygments_lexer": "ipython3",
   "version": "3.9.7"
  }
 },
 "nbformat": 4,
 "nbformat_minor": 5
}
