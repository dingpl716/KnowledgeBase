{
 "cells": [
  {
   "cell_type": "markdown",
   "id": "55710962",
   "metadata": {},
   "source": [
    "## Check revenue sum"
   ]
  },
  {
   "cell_type": "code",
   "execution_count": 1,
   "id": "ae0a5910",
   "metadata": {},
   "outputs": [],
   "source": [
    "import pandas as pd"
   ]
  },
  {
   "cell_type": "code",
   "execution_count": 2,
   "id": "b5a74951",
   "metadata": {},
   "outputs": [],
   "source": [
    "df24 = pd.read_parquet('data/gam_2022-03-24.parquet')\n",
    "df23 = pd.read_parquet('data/gam_2022-03-23.parquet')\n",
    "df13 = pd.read_parquet('data/gam_2022-03-13.parquet')"
   ]
  },
  {
   "cell_type": "code",
   "execution_count": 3,
   "id": "ffe73306",
   "metadata": {},
   "outputs": [
    {
     "data": {
      "text/plain": [
       "206005.62539500004"
      ]
     },
     "execution_count": 3,
     "metadata": {},
     "output_type": "execute_result"
    }
   ],
   "source": [
    "df23['revenue'].sum()"
   ]
  },
  {
   "cell_type": "code",
   "execution_count": 7,
   "id": "5f83999a",
   "metadata": {},
   "outputs": [
    {
     "data": {
      "text/plain": [
       "215380.68185"
      ]
     },
     "execution_count": 7,
     "metadata": {},
     "output_type": "execute_result"
    }
   ],
   "source": [
    "df24['revenue'].sum()"
   ]
  },
  {
   "cell_type": "code",
   "execution_count": 8,
   "id": "76e06138",
   "metadata": {},
   "outputs": [
    {
     "data": {
      "text/plain": [
       "202657.925991"
      ]
     },
     "execution_count": 8,
     "metadata": {},
     "output_type": "execute_result"
    }
   ],
   "source": [
    "df13['revenue'].sum()"
   ]
  },
  {
   "cell_type": "code",
   "execution_count": 9,
   "id": "50372cd8",
   "metadata": {},
   "outputs": [],
   "source": [
    "df23.set_index('placement_name', inplace=True)\n",
    "df24.set_index('placement_name', inplace=True)\n",
    "df13.set_index('placement_name', inplace=True)"
   ]
  },
  {
   "cell_type": "code",
   "execution_count": 10,
   "id": "f55b26e4",
   "metadata": {},
   "outputs": [
    {
     "data": {
      "text/plain": [
       "platform                      google_ad_manager\n",
       "placement                           21927873113\n",
       "request                                10117158\n",
       "filled_request                           643906\n",
       "imp                                    203110.0\n",
       "click                                      2218\n",
       "revenue                             1074.524503\n",
       "mediation_imp                            206690\n",
       "mediation_click                            2218\n",
       "mediation_revenue                   1109.800103\n",
       "mediation_ecpm                         5.369394\n",
       "report_date                          2022-03-23\n",
       "ingested_at          2022-03-25 11:37:28.184000\n",
       "Name: am-ios-foryou-large-high-exp, dtype: object"
      ]
     },
     "execution_count": 10,
     "metadata": {},
     "output_type": "execute_result"
    }
   ],
   "source": [
    "df23.loc['am-ios-foryou-large-high-exp']"
   ]
  },
  {
   "cell_type": "code",
   "execution_count": 11,
   "id": "767f4b15",
   "metadata": {},
   "outputs": [
    {
     "data": {
      "text/plain": [
       "platform                      google_ad_manager\n",
       "placement                           21927873113\n",
       "request                                 7774435\n",
       "filled_request                           668775\n",
       "imp                                    223857.0\n",
       "click                                      2746\n",
       "revenue                             1177.496465\n",
       "mediation_imp                            226423\n",
       "mediation_click                            2746\n",
       "mediation_revenue                   1202.530865\n",
       "mediation_ecpm                         5.310993\n",
       "report_date                          2022-03-24\n",
       "ingested_at          2022-03-25 11:41:33.657000\n",
       "Name: am-ios-foryou-large-high-exp, dtype: object"
      ]
     },
     "execution_count": 11,
     "metadata": {},
     "output_type": "execute_result"
    }
   ],
   "source": [
    "df24.loc['am-ios-foryou-large-high-exp']"
   ]
  },
  {
   "cell_type": "code",
   "execution_count": 12,
   "id": "e41a8317",
   "metadata": {},
   "outputs": [
    {
     "data": {
      "text/plain": [
       "platform                      google_ad_manager\n",
       "placement                           21927873113\n",
       "request                                11566488\n",
       "filled_request                           603862\n",
       "imp                                    209545.0\n",
       "click                                      2987\n",
       "revenue                             1147.123553\n",
       "mediation_imp                            214149\n",
       "mediation_click                            2987\n",
       "mediation_revenue                   1192.284953\n",
       "mediation_ecpm                         5.567549\n",
       "report_date                          2022-03-13\n",
       "ingested_at          2022-03-16 21:32:46.882000\n",
       "Name: am-ios-foryou-large-high-exp, dtype: object"
      ]
     },
     "execution_count": 12,
     "metadata": {},
     "output_type": "execute_result"
    }
   ],
   "source": [
    "df13.loc['am-ios-foryou-large-high-exp']"
   ]
  },
  {
   "cell_type": "code",
   "execution_count": 14,
   "id": "80c1f8ef",
   "metadata": {},
   "outputs": [
    {
     "data": {
      "text/plain": [
       "array(['google_ad_manager'], dtype=object)"
      ]
     },
     "execution_count": 14,
     "metadata": {},
     "output_type": "execute_result"
    }
   ],
   "source": [
    "df24['platform'].unique()"
   ]
  },
  {
   "cell_type": "code",
   "execution_count": null,
   "id": "00a2f893",
   "metadata": {},
   "outputs": [],
   "source": []
  }
 ],
 "metadata": {
  "kernelspec": {
   "display_name": "Python 3 (ipykernel)",
   "language": "python",
   "name": "python3"
  },
  "language_info": {
   "codemirror_mode": {
    "name": "ipython",
    "version": 3
   },
   "file_extension": ".py",
   "mimetype": "text/x-python",
   "name": "python",
   "nbconvert_exporter": "python",
   "pygments_lexer": "ipython3",
   "version": "3.9.7"
  }
 },
 "nbformat": 4,
 "nbformat_minor": 5
}
